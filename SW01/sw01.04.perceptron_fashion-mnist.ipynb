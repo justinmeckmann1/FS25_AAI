{
 "cells": [
  {
   "attachments": {},
   "cell_type": "markdown",
   "metadata": {},
   "source": [
    "![hslu_logo.png](img/hslu_logo.png)\n",
    "\n",
    "## Week 01\n",
    "\n",
    "<hr style=\"border:1px solid black\">\n",
    "\n",
    "# Excercise: Single-Layer-Perceptron using PyTorch\n",
    "---\n",
    "---\n",
    "This excercise is to illustrate a first \"real\" classification problem using a single-layer-perceptron on MNIST or FashionMNIST data."
   ]
  },
  {
   "cell_type": "markdown",
   "metadata": {},
   "source": [
    "### Import necessary packages"
   ]
  },
  {
   "cell_type": "code",
   "execution_count": null,
   "metadata": {},
   "outputs": [],
   "source": [
    "import torch\n",
    "import torchvision\n",
    "import numpy as np\n",
    "import matplotlib.pyplot as plt\n",
    "\n",
    "from utils import read_data, plot_img, plot_tiles"
   ]
  },
  {
   "cell_type": "markdown",
   "metadata": {},
   "source": [
    "#### Read dataset (MNIST or FashionMNIST)"
   ]
  },
  {
   "cell_type": "code",
   "execution_count": null,
   "metadata": {},
   "outputs": [],
   "source": [
    "#data is save in storage_path (use same path for different SW)\n",
    "training_data, test_data, labels_map = read_data(data_type='FashionMNIST', storage_path='./data')\n",
    "\n",
    "#to access the images\n",
    "print(f'training data shape {training_data.data.shape} and type {training_data.data.dtype} ')\n",
    "print(f'test data shape {test_data.data.shape} and type {test_data.data.dtype} ')\n",
    "\n",
    "#to access the labels\n",
    "print(f'training data shape {training_data.targets.shape} and type {training_data.targets.dtype} ')\n",
    "print(f'test data shape {test_data.targets.shape} and type {test_data.targets.dtype} ')\n",
    "print(f'categories: {labels_map}')"
   ]
  },
  {
   "cell_type": "markdown",
   "metadata": {},
   "source": [
    "#### plot sample images "
   ]
  },
  {
   "cell_type": "code",
   "execution_count": null,
   "metadata": {},
   "outputs": [],
   "source": [
    "plot_img(training_data.data[0], figure_size = [2,2])"
   ]
  },
  {
   "cell_type": "code",
   "execution_count": null,
   "metadata": {},
   "outputs": [],
   "source": [
    "#plot categories mixed\n",
    "plot_tiles(training_data.data, 10, 5)"
   ]
  },
  {
   "cell_type": "code",
   "execution_count": null,
   "metadata": {},
   "outputs": [],
   "source": [
    "#plot only certain categorie\n",
    "label = 3\n",
    "plot_tiles(training_data.data[training_data.targets == label], 10,5)"
   ]
  },
  {
   "cell_type": "markdown",
   "metadata": {},
   "source": [
    "#### Define the neural network"
   ]
  },
  {
   "cell_type": "code",
   "execution_count": null,
   "metadata": {
    "scrolled": true
   },
   "outputs": [],
   "source": [
    "class SingleLayerPerceptron:\n",
    "    \"\"\"\n",
    "    Single layer Perceptron class doing the forward and backward step\n",
    "    \"\"\"\n",
    "    def __init__(self, num_input, num_output):\n",
    "        \"\"\"\n",
    "        constructor\n",
    "\n",
    "        Arguments:\n",
    "        num_input -- number of input values\n",
    "        num_output -- number of output values (categories)\n",
    "        \n",
    "        \"\"\"\n",
    "        self.model = torch.nn.Sequential(\n",
    "            torch.nn.Linear(num_input, num_output),\n",
    "            #we don't require softmax layer because it is included (for numerical reasons) in the cross entropy cost below           \n",
    "        )                  \n",
    "        \n",
    "        self.cost_fn = torch.nn.CrossEntropyLoss(reduction='mean')\n",
    "        \n",
    "    def propagate(self, X):\n",
    "        \"\"\"\n",
    "        calculates the function estimation based on current parameters [W,B]\n",
    "        \"\"\"    \n",
    "        self.Y_pred = self.model(X)\n",
    "           \n",
    "     \n",
    "    def back_propagate(self, cost):\n",
    "        \"\"\"\n",
    "        calculates the backpropagation results based on expected output y\n",
    "        this function must be performed AFTER the corresponding propagte step\n",
    "        \"\"\"    \n",
    "        self.model.zero_grad()\n",
    "        \n",
    "        cost.backward()\n",
    " \n",
    "\n",
    "    def calc_cost(self, Y):\n",
    "        \"\"\"\n",
    "        calculates the MSE loss function\n",
    "        \"\"\"\n",
    "        cost = self.cost_fn(self.Y_pred, Y)\n",
    "        \n",
    "        return cost\n",
    "    \n",
    "        \n",
    "        \n",
    "    def gradient_descend(self, alpha):\n",
    "        \"\"\"\n",
    "        does the gradient descend based on results from last back_prop step with learning rate alpha\n",
    "        \"\"\"\n",
    "        with torch.no_grad():\n",
    "            for param in self.model.parameters():\n",
    "                param -= alpha * param.grad\n",
    "            \n",
    "     \n",
    "        \n",
    "    def calc_error(self, Y):\n",
    "        \"\"\"\n",
    "        get error information\n",
    "        \"\"\"\n",
    "        m = Y.shape[0]\n",
    "\n",
    "        Y_pred_argmax = torch.argmax(self.Y_pred, dim=1)\n",
    "        train_error = torch.sum(Y != Y_pred_argmax) / m\n",
    "\n",
    "        return train_error\n",
    "\n",
    "        \n",
    "        \n",
    "    def optimize(self, data, epochs, alpha, debug=0):\n",
    "        \"\"\"\n",
    "        performs epochs number of gradient descend steps and appends result to output array\n",
    "\n",
    "        Arguments:\n",
    "        data -- dictionary with data\n",
    "        epochs -- number of epochs\n",
    "        alpha -- learning rate\n",
    "        debug -- False (default)/True; get info on each gradient descend step\n",
    "        \"\"\"\n",
    "        \n",
    "        # save results before 1st step\n",
    "        for i0 in range(0, epochs):\n",
    "            #do prediction\n",
    "            self.propagate(data['X_train'])\n",
    "            #determine the loss \n",
    "            cost = self.calc_cost(data['Y_train'])\n",
    "            #determine the error\n",
    "            self.back_propagate(cost)\n",
    "            #do the correction step\n",
    "            self.gradient_descend(alpha)\n",
    "            #calculate the error\n",
    "            error = self.calc_error(data['Y_train'])\n",
    "            \n",
    "            if debug and np.mod(i0, debug) == 0:\n",
    "                print('step %r, cost %r, error %r' % (i0, cost.item(), error.item()))\n",
    "                        \n",
    "            "
   ]
  },
  {
   "cell_type": "code",
   "execution_count": null,
   "metadata": {},
   "outputs": [],
   "source": [
    "#normalize data: original data is overwritten\n",
    "data_min, data_max = torch.min(training_data.data), torch.max(training_data.data)\n",
    "print('original min-max values are: %r, %r and type %r' % (data_min.item(), data_max.item(), data_min.dtype))\n",
    "\n",
    "normalize_tpye = 0\n",
    "\n",
    "if normalize_tpye == 0:\n",
    "    #min-max-rescaling\n",
    "    training_data.data = (training_data.data.float() - data_min) / (data_max - data_min)    \n",
    "    test_data.data = (test_data.data.float() - data_min) / (data_max - data_min)   \n",
    "else:\n",
    "    #min-max-normalization\n",
    "    training_data.data = 2*(training_data.data.float() - data_min) / (data_max - data_min) - 1\n",
    "    test_data.data = 2*(test_data.data.float() - data_min) / (data_max - data_min) - 1 \n",
    "\n",
    "data_min, data_max = torch.min(training_data.data), torch.max(training_data.data)\n",
    "print('now min-max values are: %r, %r and type %r' % (data_min.item(), data_max.item(), data_min.dtype))\n"
   ]
  },
  {
   "cell_type": "markdown",
   "metadata": {},
   "source": [
    "#### Define X and Y values and do optimization"
   ]
  },
  {
   "cell_type": "code",
   "execution_count": null,
   "metadata": {},
   "outputs": [],
   "source": [
    "#input is flattend to n x 784\n",
    "data_X = training_data.data.flatten(1)\n",
    "#labels are direclty supported by pytorch\n",
    "data_Y = training_data.targets\n",
    "\n",
    "data = {'X_train' : data_X, 'Y_train' : data_Y}\n",
    "\n",
    "num_input = data_X.shape[1]\n",
    "num_output = len(torch.unique(data_Y))\n",
    "num_hidden = 100\n",
    "\n",
    "slp = SingleLayerPerceptron(num_input,num_output)\n",
    "\n",
    "slp.optimize(data, 500, 0.5, 50)\n"
   ]
  },
  {
   "cell_type": "markdown",
   "metadata": {},
   "source": [
    "#### plot false classified images"
   ]
  },
  {
   "cell_type": "code",
   "execution_count": null,
   "metadata": {},
   "outputs": [],
   "source": [
    "y_pred = torch.argmax(slp.model(data_X),1)\n",
    "\n",
    "#select a number of false classifications (rows x cols) to plot\n",
    "num_sel = 9\n",
    "\n",
    "plot_tiles(training_data.data[y_pred != data_Y], num_sel, num_sel, figure_size = [6,6])\n",
    "\n",
    "for i0 in range(0, num_sel):\n",
    "    print(y_pred[y_pred != data_Y][i0*num_sel:(i0+1)*num_sel].numpy())"
   ]
  },
  {
   "cell_type": "markdown",
   "metadata": {},
   "source": [
    "#### Evaluate error rate on test set"
   ]
  },
  {
   "cell_type": "code",
   "execution_count": null,
   "metadata": {},
   "outputs": [],
   "source": [
    "#input is flattend to n x 784\n",
    "test_X = test_data.data.flatten(1)\n",
    "#labels are direclty supported by pytorch\n",
    "test_Y = test_data.targets\n",
    "\n",
    "### START YOUR CODE ###\n",
    "\n",
    "### END YOUR CODE ###\n"
   ]
  },
  {
   "cell_type": "markdown",
   "metadata": {},
   "source": [
    "#### plot weights as images (rescale to [0,1] for output)"
   ]
  },
  {
   "cell_type": "code",
   "execution_count": null,
   "metadata": {},
   "outputs": [],
   "source": [
    "W = slp.model[0].weight.data.reshape(10, 28, 28)\n",
    "\n",
    "### START YOUR CODE ###\n",
    "\n",
    "### END YOUR CODE ###\n"
   ]
  },
  {
   "cell_type": "code",
   "execution_count": null,
   "metadata": {},
   "outputs": [],
   "source": []
  }
 ],
 "metadata": {
  "anaconda-cloud": {},
  "kernelspec": {
   "display_name": "Python 3 (ipykernel)",
   "language": "python",
   "name": "python3"
  },
  "language_info": {
   "codemirror_mode": {
    "name": "ipython",
    "version": 3
   },
   "file_extension": ".py",
   "mimetype": "text/x-python",
   "name": "python",
   "nbconvert_exporter": "python",
   "pygments_lexer": "ipython3",
   "version": "3.8.10"
  }
 },
 "nbformat": 4,
 "nbformat_minor": 4
}
